{
 "cells": [
  {
   "cell_type": "code",
   "execution_count": 7,
   "metadata": {},
   "outputs": [],
   "source": [
    "import pandas as pd\n",
    "data ={\n",
    "    'Make':[],\n",
    "    'Model':[],\n",
    "    'Year':[],\n",
    "}\n",
    "df = pd.DataFrame(data)"
   ]
  },
  {
   "cell_type": "code",
   "execution_count": 10,
   "metadata": {},
   "outputs": [
    {
     "data": {
      "text/html": [
       "<div>\n",
       "<style scoped>\n",
       "    .dataframe tbody tr th:only-of-type {\n",
       "        vertical-align: middle;\n",
       "    }\n",
       "\n",
       "    .dataframe tbody tr th {\n",
       "        vertical-align: top;\n",
       "    }\n",
       "\n",
       "    .dataframe thead th {\n",
       "        text-align: right;\n",
       "    }\n",
       "</style>\n",
       "<table border=\"1\" class=\"dataframe\">\n",
       "  <thead>\n",
       "    <tr style=\"text-align: right;\">\n",
       "      <th></th>\n",
       "      <th>Make</th>\n",
       "      <th>Model</th>\n",
       "      <th>Year</th>\n",
       "    </tr>\n",
       "  </thead>\n",
       "  <tbody>\n",
       "    <tr>\n",
       "      <th>0</th>\n",
       "      <td>Toyota</td>\n",
       "      <td>Camry</td>\n",
       "      <td>2023</td>\n",
       "    </tr>\n",
       "  </tbody>\n",
       "</table>\n",
       "</div>"
      ],
      "text/plain": [
       "     Make  Model  Year\n",
       "0  Toyota  Camry  2023"
      ]
     },
     "execution_count": 10,
     "metadata": {},
     "output_type": "execute_result"
    }
   ],
   "source": [
    "new_make = 'Toyota'\n",
    "new_model = 'Camry'\n",
    "new_year = 2023\n",
    "\n",
    "df.loc[len(df.index)] = [new_make, new_model, new_year]\n",
    "\n",
    "df"
   ]
  },
  {
   "cell_type": "code",
   "execution_count": 15,
   "metadata": {},
   "outputs": [
    {
     "name": "stdout",
     "output_type": "stream",
     "text": [
      "(None, None)\n"
     ]
    }
   ],
   "source": [
    "from Model_and_Make_list import make_and_model_list\n",
    "import datetime\n",
    "make_list = make_and_model_list()[0]\n",
    "model_list = make_and_model_list()[1]\n",
    "years = []\n",
    "curr_year = int((str(datetime.date.today()))[:4])\n",
    "\n",
    "for i in range (curr_year - 30, curr_year):\n",
    "    years.append(i)\n",
    "\n",
    "\n",
    "string_ = '2007 Honda Civic LX ~AUTOMATIC, FULLY CERTIFIED WITH WARRANTY!!!~'\n",
    "def separate_make_model(car_string, makes, models):\n",
    "    for make in makes:\n",
    "        if make in car_string:\n",
    "            model = car_string.replace(make, '').strip()\n",
    "            if model in models:\n",
    "                return make, model\n",
    "\n",
    "    return None, None\n",
    "\n",
    "print(separate_make_model(string_, make_list, model_list))\n",
    "\n"
   ]
  },
  {
   "cell_type": "code",
   "execution_count": null,
   "metadata": {},
   "outputs": [],
   "source": [
    "'2007 Honda Civic LX ~AUTOMATIC, FULLY CERTIFIED WITH WARRANTY!!!~'\n",
    "'2012 Subaru Impreza PREMIUM ~AUTOMATIC, FULLY CERTIFIED WITH WARRANTY!'\n",
    "'2014 Dodge Dart 4dr Sdn Aero'\n",
    "'2012 Volkswagen Golf HIGHLINE ~MANUAL, FULLY CERTIFIED WITH WARRANTY!!!'\n",
    "'2021 Kia Seltos LX AWD | Android Auto | Cruise | Heated Seat'\n",
    "\n",
    "\n"
   ]
  },
  {
   "cell_type": "code",
   "execution_count": 21,
   "metadata": {},
   "outputs": [
    {
     "name": "stdout",
     "output_type": "stream",
     "text": [
      "<class 'str'>\n",
      "Make: Volkswagen, Model: Golf, Year: 2012\n"
     ]
    }
   ],
   "source": [
    "import re\n",
    "from Model_and_Make_list import make_and_model_list\n",
    "\n",
    "make_list = make_and_model_list()[0]\n",
    "model_list = make_and_model_list()[1]\n",
    "years = []\n",
    "curr_year = int((str(datetime.date.today()))[:4])\n",
    "for i in range (curr_year - 20, curr_year):\n",
    "    years.append(i)\n",
    "for index, year in enumerate(years):\n",
    "    year = str(year)\n",
    "    years[index] = year\n",
    "\n",
    "def extract_car_info(car_info):\n",
    "    \n",
    "    make_pattern = re.compile(r'\\b(?:' + '|'.join(make_list) +r')\\b', flags=re.IGNORECASE)\n",
    "    model_pattern = re.compile(r'\\b(?:' + '|'.join(model_list) +r')\\b', flags=re.IGNORECASE)\n",
    "    year_pattern = re.compile(r'\\b(?:' + '|'.join(years) +r')\\b', flags=re.IGNORECASE)\n",
    "    \n",
    "\n",
    "    make_match = make_pattern.search(car_info)\n",
    "    model_match = model_pattern.search(car_info)\n",
    "    year_match = year_pattern.search(car_info)\n",
    "\n",
    "    make = make_match.group() if make_match else None\n",
    "    model = model_match.group() if model_match else None\n",
    "    year = year_match.group() if year_match else None\n",
    "\n",
    "    return make, model, year\n",
    "\n",
    "\n",
    "car_info = '2012 Volkswagen Golf HIGHLINE ~MANUAL, FULLY CERTIFIED WITH WARRANTY!!!'\n",
    "make, model, year = extract_car_info(car_info)\n",
    "print(f'Make: {make}, Model: {model}, Year: {year}')"
   ]
  },
  {
   "cell_type": "code",
   "execution_count": 1,
   "metadata": {},
   "outputs": [
    {
     "name": "stdout",
     "output_type": "stream",
     "text": [
      "abcdefg\n"
     ]
    }
   ],
   "source": [
    "abc = 'abc'\n",
    "defg = 'defg'\n",
    "\n",
    "print(abc + defg)"
   ]
  }
 ],
 "metadata": {
  "kernelspec": {
   "display_name": "myenv311",
   "language": "python",
   "name": "python3"
  },
  "language_info": {
   "codemirror_mode": {
    "name": "ipython",
    "version": 3
   },
   "file_extension": ".py",
   "mimetype": "text/x-python",
   "name": "python",
   "nbconvert_exporter": "python",
   "pygments_lexer": "ipython3",
   "version": "3.11.0"
  }
 },
 "nbformat": 4,
 "nbformat_minor": 2
}
